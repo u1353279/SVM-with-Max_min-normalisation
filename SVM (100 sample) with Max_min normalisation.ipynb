{
 "cells": [
  {
   "cell_type": "markdown",
   "metadata": {},
   "source": [
    "# SVM implementation (100 samples) with data normalisation"
   ]
  },
  {
   "cell_type": "markdown",
   "metadata": {},
   "source": [
    "import dataset"
   ]
  },
  {
   "cell_type": "code",
   "execution_count": 1,
   "metadata": {},
   "outputs": [
    {
     "data": {
      "text/html": [
       "<div>\n",
       "<style scoped>\n",
       "    .dataframe tbody tr th:only-of-type {\n",
       "        vertical-align: middle;\n",
       "    }\n",
       "\n",
       "    .dataframe tbody tr th {\n",
       "        vertical-align: top;\n",
       "    }\n",
       "\n",
       "    .dataframe thead th {\n",
       "        text-align: right;\n",
       "    }\n",
       "</style>\n",
       "<table border=\"1\" class=\"dataframe\">\n",
       "  <thead>\n",
       "    <tr style=\"text-align: right;\">\n",
       "      <th></th>\n",
       "      <th>G</th>\n",
       "      <th>P</th>\n",
       "      <th>T</th>\n",
       "    </tr>\n",
       "  </thead>\n",
       "  <tbody>\n",
       "    <tr>\n",
       "      <td>0</td>\n",
       "      <td>0.008667</td>\n",
       "      <td>0.018119</td>\n",
       "      <td>0</td>\n",
       "    </tr>\n",
       "    <tr>\n",
       "      <td>1</td>\n",
       "      <td>0.164500</td>\n",
       "      <td>0.369489</td>\n",
       "      <td>0</td>\n",
       "    </tr>\n",
       "    <tr>\n",
       "      <td>2</td>\n",
       "      <td>0.717500</td>\n",
       "      <td>1.601420</td>\n",
       "      <td>0</td>\n",
       "    </tr>\n",
       "    <tr>\n",
       "      <td>3</td>\n",
       "      <td>0.902167</td>\n",
       "      <td>1.973920</td>\n",
       "      <td>0</td>\n",
       "    </tr>\n",
       "    <tr>\n",
       "      <td>4</td>\n",
       "      <td>1.086000</td>\n",
       "      <td>2.448440</td>\n",
       "      <td>0</td>\n",
       "    </tr>\n",
       "  </tbody>\n",
       "</table>\n",
       "</div>"
      ],
      "text/plain": [
       "          G         P  T\n",
       "0  0.008667  0.018119  0\n",
       "1  0.164500  0.369489  0\n",
       "2  0.717500  1.601420  0\n",
       "3  0.902167  1.973920  0\n",
       "4  1.086000  2.448440  0"
      ]
     },
     "execution_count": 1,
     "metadata": {},
     "output_type": "execute_result"
    }
   ],
   "source": [
    "import pandas as pd\n",
    "df=pd.read_excel('dataset.xlsx')\n",
    "df.head()"
   ]
  },
  {
   "cell_type": "markdown",
   "metadata": {},
   "source": [
    "input range before normalisation for irradiance"
   ]
  },
  {
   "cell_type": "code",
   "execution_count": 2,
   "metadata": {},
   "outputs": [
    {
     "name": "stdout",
     "output_type": "stream",
     "text": [
      "0.00866667\n",
      "0.1645\n",
      "0.7175\n",
      "0.902167\n",
      "1.08599999999999\n",
      "0.998833\n",
      "1.28199999999999\n",
      "1.76617\n",
      "2.01067\n",
      "2.3005\n",
      "2.40199999999999\n",
      "3.07767\n",
      "3.79466999999999\n",
      "4.15051\n",
      "4.73148\n",
      "5.61683\n",
      "6.61217\n",
      "7.85417\n",
      "8.82085\n",
      "9.58836\n",
      "10.5409999999999\n",
      "11.8705\n",
      "13.3609999999999\n",
      "14.8382\n",
      "15.9688\n",
      "17.325\n",
      "18.5133\n",
      "19.4707\n",
      "20.173\n",
      "21.0827\n",
      "21.8123\n",
      "22.5877\n",
      "23.5359999999999\n",
      "24.2807\n",
      "25.1897\n",
      "26.2059\n",
      "27.1343\n",
      "28.1972\n",
      "29.2268\n",
      "30.3548\n",
      "31.5398\n",
      "32.6535\n",
      "33.7397\n",
      "35.2537\n",
      "36.8063\n",
      "38.366\n",
      "40.241\n",
      "42.4645\n",
      "44.464\n",
      "46.6692\n",
      "49.4535\n",
      "52.4422\n",
      "55.6239999999999\n",
      "58.4723\n",
      "61.3297\n",
      "64.2822\n",
      "67.0618\n",
      "70.1502\n",
      "73.1302\n",
      "75.7762\n",
      "77.952\n",
      "79.1231\n",
      "79.983\n",
      "80.6868\n",
      "81.5433\n",
      "82.4528\n",
      "82.8707\n",
      "82.6125\n",
      "82.8272\n",
      "83.2843\n",
      "83.9678\n",
      "84.6668\n",
      "85.9217\n",
      "87.615\n",
      "89.5892\n",
      "91.2692\n",
      "92.8447\n",
      "94.4063\n",
      "96.1865\n",
      "98.1907\n",
      "100.212\n",
      "102.838\n",
      "106.62\n",
      "110.406\n",
      "113.322\n",
      "115.947\n",
      "118.243\n",
      "119.252\n",
      "120.294\n",
      "121.089\n",
      "121.786\n",
      "121.002999999999\n",
      "121.092\n",
      "122.43\n",
      "124.782\n",
      "126.649\n",
      "127.961\n",
      "129.534\n",
      "131.643\n",
      "134.296\n"
     ]
    }
   ],
   "source": [
    "for x in df['G']:\n",
    "    print(x)"
   ]
  },
  {
   "cell_type": "markdown",
   "metadata": {},
   "source": [
    "Irradiance after normalisation"
   ]
  },
  {
   "cell_type": "code",
   "execution_count": 160,
   "metadata": {},
   "outputs": [
    {
     "name": "stdout",
     "output_type": "stream",
     "text": [
      "[0.]\n",
      "[0.00116045]\n",
      "[0.00527848]\n",
      "[0.00665365]\n",
      "[0.0080226]\n",
      "[0.00737349]\n",
      "[0.00948216]\n",
      "[0.01308763]\n",
      "[0.01490836]\n",
      "[0.01706664]\n",
      "[0.01782248]\n",
      "[0.022854]\n",
      "[0.0281933]\n",
      "[0.03084314]\n",
      "[0.03516946]\n",
      "[0.04176241]\n",
      "[0.04917443]\n",
      "[0.05842326]\n",
      "[0.06562185]\n",
      "[0.07133728]\n",
      "[0.07843132]\n",
      "[0.08833174]\n",
      "[0.09943107]\n",
      "[0.11043136]\n",
      "[0.11885062]\n",
      "[0.12894986]\n",
      "[0.1377988]\n",
      "[0.14492829]\n",
      "[0.15015812]\n",
      "[0.1569324]\n",
      "[0.16236552]\n",
      "[0.16813971]\n",
      "[0.17520143]\n",
      "[0.18074701]\n",
      "[0.18751607]\n",
      "[0.19508343]\n",
      "[0.20199696]\n",
      "[0.20991208]\n",
      "[0.21757922]\n",
      "[0.22597912]\n",
      "[0.23480348]\n",
      "[0.24309689]\n",
      "[0.25118552]\n",
      "[0.26245985]\n",
      "[0.27402163]\n",
      "[0.28563627]\n",
      "[0.29959887]\n",
      "[0.31615665]\n",
      "[0.33104636]\n",
      "[0.34746787]\n",
      "[0.36820177]\n",
      "[0.39045777]\n",
      "[0.41415174]\n",
      "[0.43536223]\n",
      "[0.45664049]\n",
      "[0.47862692]\n",
      "[0.49932582]\n",
      "[0.52232427]\n",
      "[0.54451549]\n",
      "[0.56421951]\n",
      "[0.58042208]\n",
      "[0.58914293]\n",
      "[0.59554637]\n",
      "[0.60078737]\n",
      "[0.60716548]\n",
      "[0.61393827]\n",
      "[0.61705026]\n",
      "[0.61512751]\n",
      "[0.61672632]\n",
      "[0.62013022]\n",
      "[0.62522005]\n",
      "[0.63042531]\n",
      "[0.63977019]\n",
      "[0.65237972]\n",
      "[0.66708104]\n",
      "[0.67959152]\n",
      "[0.69132383]\n",
      "[0.70295262]\n",
      "[0.71620927]\n",
      "[0.73113399]\n",
      "[0.74618604]\n",
      "[0.76574112]\n",
      "[0.79390461]\n",
      "[0.82209789]\n",
      "[0.84381252]\n",
      "[0.86336016]\n",
      "[0.88045782]\n",
      "[0.88797156]\n",
      "[0.89573104]\n",
      "[0.90165119]\n",
      "[0.90684155]\n",
      "[0.90101077]\n",
      "[0.90167353]\n",
      "[0.91163724]\n",
      "[0.92915192]\n",
      "[0.94305494]\n",
      "[0.95282504]\n",
      "[0.96453873]\n",
      "[0.98024386]\n",
      "[1.]\n"
     ]
    }
   ],
   "source": [
    "from sklearn.preprocessing import MinMaxScaler\n",
    "min_max=MinMaxScaler()\n",
    "i_norm=min_max.fit_transform(df[['G']])\n",
    "for x in i_norm:\n",
    "    print(x)"
   ]
  },
  {
   "cell_type": "markdown",
   "metadata": {},
   "source": [
    "power values before normalisation"
   ]
  },
  {
   "cell_type": "code",
   "execution_count": 4,
   "metadata": {},
   "outputs": [
    {
     "name": "stdout",
     "output_type": "stream",
     "text": [
      "0.0181187\n",
      "0.369489\n",
      "1.60142\n",
      "1.97392\n",
      "2.44844\n",
      "2.15653\n",
      "2.91351\n",
      "3.95738\n",
      "4.3513\n",
      "4.94869\n",
      "5.2921\n",
      "6.66302\n",
      "8.64435\n",
      "9.45593\n",
      "10.336\n",
      "12.6451\n",
      "15.0686\n",
      "16.7875\n",
      "19.0216\n",
      "20.1338\n",
      "23.0706\n",
      "25.8331\n",
      "28.2364\n",
      "33.7924\n",
      "33.5944\n",
      "36.9484\n",
      "40.7513\n",
      "44.317\n",
      "44.2501\n",
      "46.9541\n",
      "45.6813\n",
      "48.434\n",
      "51.0101\n",
      "51.9373\n",
      "58.0168\n",
      "57.4641\n",
      "57.324\n",
      "62.2366\n",
      "62.3087\n",
      "68.0447\n",
      "69.8045\n",
      "71.3968\n",
      "72.4182\n",
      "78.2642\n",
      "84.0677\n",
      "81.4739\n",
      "86.9477\n",
      "95.1986\n",
      "99.2565\n",
      "103.699\n",
      "103.645\n",
      "113.065\n",
      "124.5\n",
      "129.176\n",
      "139.639\n",
      "144.671\n",
      "140.892\n",
      "160.886\n",
      "166.889\n",
      "166.225\n",
      "173.895\n",
      "176.436\n",
      "173.697\n",
      "172.673\n",
      "186.288\n",
      "177.588\n",
      "176.117\n",
      "181.458\n",
      "188.986\n",
      "192.283\n",
      "191.172\n",
      "178.792\n",
      "191.575\n",
      "188.12\n",
      "205.935\n",
      "200.942\n",
      "198.701\n",
      "200.31\n",
      "216.77\n",
      "219.007\n",
      "216.334\n",
      "224.492\n",
      "245.61\n",
      "245.332\n",
      "241.764\n",
      "264.666\n",
      "263.812\n",
      "260.338\n",
      "272.508\n",
      "268.23\n",
      "258.719\n",
      "253.607\n",
      "253.168\n",
      "269.644\n",
      "270.488\n",
      "272.617\n",
      "277.017\n",
      "277.977\n",
      "277.914\n",
      "288.874\n"
     ]
    }
   ],
   "source": [
    "for x in df['P']:\n",
    "    print (x)"
   ]
  },
  {
   "cell_type": "markdown",
   "metadata": {},
   "source": [
    "power values after normalisation"
   ]
  },
  {
   "cell_type": "code",
   "execution_count": 159,
   "metadata": {},
   "outputs": [
    {
     "name": "stdout",
     "output_type": "stream",
     "text": [
      "[0.]\n",
      "[0.00121642]\n",
      "[0.00548128]\n",
      "[0.00677086]\n",
      "[0.00841361]\n",
      "[0.00740304]\n",
      "[0.01002365]\n",
      "[0.01363746]\n",
      "[0.01500119]\n",
      "[0.01706931]\n",
      "[0.01825818]\n",
      "[0.02300421]\n",
      "[0.02986344]\n",
      "[0.03267308]\n",
      "[0.03571982]\n",
      "[0.04371378]\n",
      "[0.05210377]\n",
      "[0.05805449]\n",
      "[0.0657888]\n",
      "[0.06963916]\n",
      "[0.07980617]\n",
      "[0.08936976]\n",
      "[0.09768983]\n",
      "[0.11692433]\n",
      "[0.11623887]\n",
      "[0.1278502]\n",
      "[0.14101559]\n",
      "[0.1533598]\n",
      "[0.1531282]\n",
      "[0.16248927]\n",
      "[0.15808292]\n",
      "[0.16761259]\n",
      "[0.17653087]\n",
      "[0.17974078]\n",
      "[0.20078761]\n",
      "[0.1988742]\n",
      "[0.19838918]\n",
      "[0.21539628]\n",
      "[0.21564588]\n",
      "[0.23550354]\n",
      "[0.24159585]\n",
      "[0.24710828]\n",
      "[0.2506443]\n",
      "[0.27088277]\n",
      "[0.2909741]\n",
      "[0.28199454]\n",
      "[0.30094447]\n",
      "[0.32950855]\n",
      "[0.34355673]\n",
      "[0.35893637]\n",
      "[0.35874942]\n",
      "[0.39136084]\n",
      "[0.43094806]\n",
      "[0.44713606]\n",
      "[0.48335828]\n",
      "[0.50077873]\n",
      "[0.48769608]\n",
      "[0.55691399]\n",
      "[0.57769598]\n",
      "[0.57539726]\n",
      "[0.60195029]\n",
      "[0.61074706]\n",
      "[0.60126483]\n",
      "[0.59771981]\n",
      "[0.64485404]\n",
      "[0.61473521]\n",
      "[0.60964271]\n",
      "[0.6281329]\n",
      "[0.65419434]\n",
      "[0.66560833]\n",
      "[0.66176212]\n",
      "[0.61890338]\n",
      "[0.66315728]\n",
      "[0.6511963]\n",
      "[0.71287065]\n",
      "[0.69558522]\n",
      "[0.68782702]\n",
      "[0.69339728]\n",
      "[0.75038071]\n",
      "[0.75812506]\n",
      "[0.74887131]\n",
      "[0.77711376]\n",
      "[0.85022289]\n",
      "[0.84926047]\n",
      "[0.83690829]\n",
      "[0.9161935]\n",
      "[0.91323701]\n",
      "[0.90121025]\n",
      "[0.94334199]\n",
      "[0.92853183]\n",
      "[0.89560538]\n",
      "[0.87790797]\n",
      "[0.87638818]\n",
      "[0.93342701]\n",
      "[0.93634888]\n",
      "[0.94371934]\n",
      "[0.95895185]\n",
      "[0.96227531]\n",
      "[0.9620572]\n",
      "[1.]\n"
     ]
    }
   ],
   "source": [
    "from sklearn.preprocessing import MinMaxScaler\n",
    "min_max=MinMaxScaler()\n",
    "p_norm=min_max.fit_transform(df[['P']])\n",
    "for x in p_norm:\n",
    "    print (x)"
   ]
  },
  {
   "cell_type": "code",
   "execution_count": 6,
   "metadata": {},
   "outputs": [
    {
     "data": {
      "text/plain": [
       "Index(['G', 'P', 'T'], dtype='object')"
      ]
     },
     "execution_count": 6,
     "metadata": {},
     "output_type": "execute_result"
    }
   ],
   "source": [
    "df.keys()"
   ]
  },
  {
   "cell_type": "code",
   "execution_count": 8,
   "metadata": {},
   "outputs": [],
   "source": [
    "import numpy as np\n",
    "array=df.values"
   ]
  },
  {
   "cell_type": "code",
   "execution_count": 162,
   "metadata": {},
   "outputs": [
    {
     "data": {
      "text/plain": [
       "Text(0.5, 1.0, 'Irradiance against target ')"
      ]
     },
     "execution_count": 162,
     "metadata": {},
     "output_type": "execute_result"
    },
    {
     "data": {
      "image/png": "[encoded data removed]",
      "text/plain": [
       "<Figure size 432x288 with 1 Axes>"
      ]
     },
     "metadata": {
      "needs_background": "light"
     },
     "output_type": "display_data"
    }
   ],
   "source": [
    "irr=i_norm\n",
    "tar=df['T']\n",
    "import matplotlib.pyplot as plt\n",
    "plt.scatter(irr,tar)\n",
    "plt.xlabel('No. of faulty')\n",
    "plt.ylabel('type of fault')\n",
    "plt.title('Irradiance against target ')\n"
   ]
  },
  {
   "cell_type": "code",
   "execution_count": 163,
   "metadata": {},
   "outputs": [
    {
     "data": {
      "text/plain": [
       "Text(0.5, 1.0, 'Power against target ')"
      ]
     },
     "execution_count": 163,
     "metadata": {},
     "output_type": "execute_result"
    },
    {
     "data": {
      "image/png": "[encoded data removed]",
      "text/plain": [
       "<Figure size 432x288 with 1 Axes>"
      ]
     },
     "metadata": {
      "needs_background": "light"
     },
     "output_type": "display_data"
    }
   ],
   "source": [
    "power=p_norm\n",
    "target=df['T']\n",
    "import matplotlib.pyplot as plt\n",
    "plt.scatter(power,target)\n",
    "plt.xlabel('No. of faulty')\n",
    "plt.ylabel('type of fault')\n",
    "plt.title('Power against target ')"
   ]
  },
  {
   "cell_type": "code",
   "execution_count": 166,
   "metadata": {},
   "outputs": [
    {
     "data": {
      "text/plain": [
       "array([[0.        , 0.        ],\n",
       "       [0.00116045, 0.00121642],\n",
       "       [0.00527848, 0.00548128],\n",
       "       [0.00665365, 0.00677086],\n",
       "       [0.0080226 , 0.00841361],\n",
       "       [0.00737349, 0.00740304],\n",
       "       [0.00948216, 0.01002365],\n",
       "       [0.01308763, 0.01363746],\n",
       "       [0.01490836, 0.01500119],\n",
       "       [0.01706664, 0.01706931],\n",
       "       [0.01782248, 0.01825818],\n",
       "       [0.022854  , 0.02300421],\n",
       "       [0.0281933 , 0.02986344],\n",
       "       [0.03084314, 0.03267308],\n",
       "       [0.03516946, 0.03571982],\n",
       "       [0.04176241, 0.04371378],\n",
       "       [0.04917443, 0.05210377],\n",
       "       [0.05842326, 0.05805449],\n",
       "       [0.06562185, 0.0657888 ],\n",
       "       [0.07133728, 0.06963916],\n",
       "       [0.07843132, 0.07980617],\n",
       "       [0.08833174, 0.08936976],\n",
       "       [0.09943107, 0.09768983],\n",
       "       [0.11043136, 0.11692433],\n",
       "       [0.11885062, 0.11623887],\n",
       "       [0.12894986, 0.1278502 ],\n",
       "       [0.1377988 , 0.14101559],\n",
       "       [0.14492829, 0.1533598 ],\n",
       "       [0.15015812, 0.1531282 ],\n",
       "       [0.1569324 , 0.16248927],\n",
       "       [0.16236552, 0.15808292],\n",
       "       [0.16813971, 0.16761259],\n",
       "       [0.17520143, 0.17653087],\n",
       "       [0.18074701, 0.17974078],\n",
       "       [0.18751607, 0.20078761],\n",
       "       [0.19508343, 0.1988742 ],\n",
       "       [0.20199696, 0.19838918],\n",
       "       [0.20991208, 0.21539628],\n",
       "       [0.21757922, 0.21564588],\n",
       "       [0.22597912, 0.23550354],\n",
       "       [0.23480348, 0.24159585],\n",
       "       [0.24309689, 0.24710828],\n",
       "       [0.25118552, 0.2506443 ],\n",
       "       [0.26245985, 0.27088277],\n",
       "       [0.27402163, 0.2909741 ],\n",
       "       [0.28563627, 0.28199454],\n",
       "       [0.29959887, 0.30094447],\n",
       "       [0.31615665, 0.32950855],\n",
       "       [0.33104636, 0.34355673],\n",
       "       [0.34746787, 0.35893637],\n",
       "       [0.36820177, 0.35874942],\n",
       "       [0.39045777, 0.39136084],\n",
       "       [0.41415174, 0.43094806],\n",
       "       [0.43536223, 0.44713606],\n",
       "       [0.45664049, 0.48335828],\n",
       "       [0.47862692, 0.50077873],\n",
       "       [0.49932582, 0.48769608],\n",
       "       [0.52232427, 0.55691399],\n",
       "       [0.54451549, 0.57769598],\n",
       "       [0.56421951, 0.57539726],\n",
       "       [0.58042208, 0.60195029],\n",
       "       [0.58914293, 0.61074706],\n",
       "       [0.59554637, 0.60126483],\n",
       "       [0.60078737, 0.59771981],\n",
       "       [0.60716548, 0.64485404],\n",
       "       [0.61393827, 0.61473521],\n",
       "       [0.61705026, 0.60964271],\n",
       "       [0.61512751, 0.6281329 ],\n",
       "       [0.61672632, 0.65419434],\n",
       "       [0.62013022, 0.66560833],\n",
       "       [0.62522005, 0.66176212],\n",
       "       [0.63042531, 0.61890338],\n",
       "       [0.63977019, 0.66315728],\n",
       "       [0.65237972, 0.6511963 ],\n",
       "       [0.66708104, 0.71287065],\n",
       "       [0.67959152, 0.69558522],\n",
       "       [0.69132383, 0.68782702],\n",
       "       [0.70295262, 0.69339728],\n",
       "       [0.71620927, 0.75038071],\n",
       "       [0.73113399, 0.75812506],\n",
       "       [0.74618604, 0.74887131],\n",
       "       [0.76574112, 0.77711376],\n",
       "       [0.79390461, 0.85022289],\n",
       "       [0.82209789, 0.84926047],\n",
       "       [0.84381252, 0.83690829],\n",
       "       [0.86336016, 0.9161935 ],\n",
       "       [0.88045782, 0.91323701],\n",
       "       [0.88797156, 0.90121025],\n",
       "       [0.89573104, 0.94334199],\n",
       "       [0.90165119, 0.92853183],\n",
       "       [0.90684155, 0.89560538],\n",
       "       [0.90101077, 0.87790797],\n",
       "       [0.90167353, 0.87638818],\n",
       "       [0.91163724, 0.93342701],\n",
       "       [0.92915192, 0.93634888],\n",
       "       [0.94305494, 0.94371934],\n",
       "       [0.95282504, 0.95895185],\n",
       "       [0.96453873, 0.96227531],\n",
       "       [0.98024386, 0.9620572 ],\n",
       "       [1.        , 1.        ]])"
      ]
     },
     "execution_count": 166,
     "metadata": {},
     "output_type": "execute_result"
    }
   ],
   "source": [
    "x=array[:,0:2]\n",
    "from sklearn.preprocessing import MinMaxScaler\n",
    "min_max=MinMaxScaler()\n",
    "x_norm=min_max.fit_transform(x)\n",
    "x_norm"
   ]
  },
  {
   "cell_type": "code",
   "execution_count": 179,
   "metadata": {},
   "outputs": [],
   "source": [
    "y=array[:,2]\n"
   ]
  },
  {
   "cell_type": "code",
   "execution_count": 180,
   "metadata": {},
   "outputs": [],
   "source": [
    "from sklearn.svm import SVC\n",
    "svm=SVC(kernel='linear')"
   ]
  },
  {
   "cell_type": "code",
   "execution_count": 186,
   "metadata": {},
   "outputs": [
    {
     "data": {
      "text/plain": [
       "(80, 2)"
      ]
     },
     "execution_count": 186,
     "metadata": {},
     "output_type": "execute_result"
    }
   ],
   "source": [
    "from sklearn.model_selection import train_test_split\n",
    "x_train,x_test,y_train,y_test=train_test_split(x_norm,y,test_size=0.2)\n",
    "x_train.shape"
   ]
  },
  {
   "cell_type": "code",
   "execution_count": 187,
   "metadata": {},
   "outputs": [
    {
     "data": {
      "text/plain": [
       "SVC(C=1.0, cache_size=200, class_weight=None, coef0=0.0,\n",
       "    decision_function_shape='ovr', degree=3, gamma='auto_deprecated',\n",
       "    kernel='linear', max_iter=-1, probability=False, random_state=None,\n",
       "    shrinking=True, tol=0.001, verbose=False)"
      ]
     },
     "execution_count": 187,
     "metadata": {},
     "output_type": "execute_result"
    }
   ],
   "source": [
    "svm.fit(x_train,y_train)"
   ]
  },
  {
   "cell_type": "code",
   "execution_count": 190,
   "metadata": {},
   "outputs": [],
   "source": [
    "y_pred=svm.predict(x_test)"
   ]
  },
  {
   "cell_type": "code",
   "execution_count": 191,
   "metadata": {},
   "outputs": [
    {
     "data": {
      "text/plain": [
       "0.1"
      ]
     },
     "execution_count": 191,
     "metadata": {},
     "output_type": "execute_result"
    }
   ],
   "source": [
    "import sklearn.metrics as metrics\n",
    "z=metrics.accuracy_score(y_test,y_pred)\n",
    "z"
   ]
  },
  {
   "cell_type": "code",
   "execution_count": 192,
   "metadata": {},
   "outputs": [
    {
     "name": "stdout",
     "output_type": "stream",
     "text": [
      "              precision    recall  f1-score   support\n",
      "\n",
      "         0.0       0.33      1.00      0.50         1\n",
      "         1.0       0.00      0.00      0.00         2\n",
      "         2.0       0.17      1.00      0.29         1\n",
      "         3.0       0.00      0.00      0.00         3\n",
      "         4.0       0.00      0.00      0.00         2\n",
      "         5.0       0.00      0.00      0.00         2\n",
      "         6.0       0.00      0.00      0.00         0\n",
      "         7.0       0.00      0.00      0.00         3\n",
      "         8.0       0.00      0.00      0.00         2\n",
      "         9.0       0.00      0.00      0.00         4\n",
      "\n",
      "    accuracy                           0.10        20\n",
      "   macro avg       0.05      0.20      0.08        20\n",
      "weighted avg       0.03      0.10      0.04        20\n",
      "\n"
     ]
    },
    {
     "name": "stderr",
     "output_type": "stream",
     "text": [
      "C:\\Users\\zahid.hussain\\AppData\\Local\\Continuum\\anaconda3\\lib\\site-packages\\sklearn\\metrics\\classification.py:1437: UndefinedMetricWarning: Precision and F-score are ill-defined and being set to 0.0 in labels with no predicted samples.\n",
      "  'precision', 'predicted', average, warn_for)\n",
      "C:\\Users\\zahid.hussain\\AppData\\Local\\Continuum\\anaconda3\\lib\\site-packages\\sklearn\\metrics\\classification.py:1439: UndefinedMetricWarning: Recall and F-score are ill-defined and being set to 0.0 in labels with no true samples.\n",
      "  'recall', 'true', average, warn_for)\n"
     ]
    }
   ],
   "source": [
    "print (metrics.classification_report(y_test,y_pred))"
   ]
  },
  {
   "cell_type": "code",
   "execution_count": 193,
   "metadata": {},
   "outputs": [
    {
     "name": "stdout",
     "output_type": "stream",
     "text": [
      "[[1 0 0 0 0 0 0 0 0 0]\n",
      " [2 0 0 0 0 0 0 0 0 0]\n",
      " [0 0 1 0 0 0 0 0 0 0]\n",
      " [0 0 3 0 0 0 0 0 0 0]\n",
      " [0 0 2 0 0 0 0 0 0 0]\n",
      " [0 0 0 0 0 0 2 0 0 0]\n",
      " [0 0 0 0 0 0 0 0 0 0]\n",
      " [0 0 0 0 0 0 3 0 0 0]\n",
      " [0 0 0 0 0 0 2 0 0 0]\n",
      " [0 0 0 0 0 0 0 0 4 0]]\n"
     ]
    }
   ],
   "source": [
    "print (metrics.confusion_matrix(y_test,y_pred))"
   ]
  },
  {
   "cell_type": "code",
   "execution_count": 194,
   "metadata": {},
   "outputs": [
    {
     "data": {
      "text/plain": [
       "[<matplotlib.lines.Line2D at 0x22fe1a1cd08>,\n",
       " <matplotlib.lines.Line2D at 0x22fe102b948>,\n",
       " <matplotlib.lines.Line2D at 0x22fe1011f48>,\n",
       " <matplotlib.lines.Line2D at 0x22fdf3e92c8>,\n",
       " <matplotlib.lines.Line2D at 0x22fe1014508>,\n",
       " <matplotlib.lines.Line2D at 0x22fdf458d88>,\n",
       " <matplotlib.lines.Line2D at 0x22fe16ca688>,\n",
       " <matplotlib.lines.Line2D at 0x22fdf50c588>,\n",
       " <matplotlib.lines.Line2D at 0x22fe1014648>,\n",
       " <matplotlib.lines.Line2D at 0x22fdf458b08>]"
      ]
     },
     "execution_count": 194,
     "metadata": {},
     "output_type": "execute_result"
    },
    {
     "data": {
      "image/png": "[encoded data removed]",
      "text/plain": [
       "<Figure size 432x288 with 1 Axes>"
      ]
     },
     "metadata": {
      "needs_background": "light"
     },
     "output_type": "display_data"
    }
   ],
   "source": [
    "import matplotlib.pyplot as plt\n",
    "w=metrics.confusion_matrix(y_test,y_pred)\n",
    "plt.plot(w)\n"
   ]
  }
 ],
 "metadata": {
  "kernelspec": {
   "display_name": "Python 3",
   "language": "python",
   "name": "python3"
  },
  "language_info": {
   "codemirror_mode": {
    "name": "ipython",
    "version": 3
   },
   "file_extension": ".py",
   "mimetype": "text/x-python",
   "name": "python",
   "nbconvert_exporter": "python",
   "pygments_lexer": "ipython3",
   "version": "3.7.4"
  }
 },
 "nbformat": 4,
 "nbformat_minor": 2
}
